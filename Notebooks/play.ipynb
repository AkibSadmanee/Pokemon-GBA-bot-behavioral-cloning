{
 "cells": [
  {
   "cell_type": "code",
   "execution_count": 5,
   "metadata": {},
   "outputs": [],
   "source": [
    "from os.path import join\n",
    "import numpy as np\n",
    "from PIL import Image\n",
    "from PIL import ImageGrab\n",
    "from move_char import *\n",
    "import keyboard\n",
    "import pickle as cp\n",
    "import time"
   ]
  },
  {
   "cell_type": "code",
   "execution_count": 2,
   "metadata": {},
   "outputs": [],
   "source": [
    "import torch\n",
    "import torch.nn as nn\n",
    "import torch.nn.functional as F\n",
    "from torch.utils.data import DataLoader\n",
    "from torchvision import datasets, transforms"
   ]
  },
  {
   "cell_type": "code",
   "execution_count": 7,
   "metadata": {},
   "outputs": [],
   "source": [
    "keymap = {\n",
    "    0 : 0x28, # down\n",
    "    1 : 0x26, # up\n",
    "    2 : 0x25, # left\n",
    "    3 : 0x27, # right\n",
    "    4 : 0x58 # x\n",
    "}"
   ]
  },
  {
   "cell_type": "code",
   "execution_count": 4,
   "metadata": {},
   "outputs": [
    {
     "data": {
      "text/plain": [
       "device(type='cuda')"
      ]
     },
     "execution_count": 4,
     "metadata": {},
     "output_type": "execute_result"
    }
   ],
   "source": [
    "device = torch.device(\"cuda\" if torch.cuda.is_available() else \"cpu\")\n",
    "device"
   ]
  },
  {
   "cell_type": "code",
   "execution_count": 5,
   "metadata": {},
   "outputs": [],
   "source": [
    "class CNNModel(nn.Module):\n",
    "    def __init__(self):\n",
    "        super().__init__()\n",
    "        self.conv1 = nn.Conv2d(in_channels=3, kernel_size=5, out_channels=16, stride=2, padding=1)\n",
    "        self.conv2 = nn.Conv2d(in_channels=16, kernel_size=5, out_channels=32, stride=2, padding=1)\n",
    "        self.conv3 = nn.Conv2d(in_channels=32, kernel_size=5, out_channels=64, stride=2, padding=1)\n",
    "        self.conv4 = nn.Conv2d(in_channels=64, kernel_size=5, out_channels=128, stride=2, padding=1)\n",
    "        self.fc1 = nn.Linear(512,256)\n",
    "        self.fc2 = nn.Linear(256,128)\n",
    "        self.fc3 = nn.Linear(128,64)\n",
    "        self.out = nn.Linear(64,5)\n",
    "    \n",
    "    def forward(self,X):\n",
    "        # print(X.shape)\n",
    "        X = F.relu(self.conv1(X))\n",
    "        X = F.max_pool2d(X,2,2)\n",
    "        # print(X.shape)\n",
    "        X = F.relu(self.conv2(X))\n",
    "        X = F.max_pool2d(X,2,2)\n",
    "        # print(X.shape)\n",
    "        X = F.relu(self.conv3(X))\n",
    "        X = F.max_pool2d(X,2,2)\n",
    "        # print(X.shape)\n",
    "        X = F.relu(self.conv4(X))\n",
    "        X = F.max_pool2d(X,2,2)\n",
    "\n",
    "        X = X.view(X.size()[0], -1)\n",
    "        # print(X.shape)\n",
    "        X = F.relu(self.fc1(X))\n",
    "        X = F.relu(self.fc2(X))\n",
    "        X = F.relu(self.fc3(X))\n",
    "\n",
    "        \n",
    "        X = self.out(X)\n",
    "        return F.log_softmax(X,dim = 1)"
   ]
  },
  {
   "cell_type": "code",
   "execution_count": 6,
   "metadata": {},
   "outputs": [],
   "source": [
    "model = CNNModel().to(device)"
   ]
  },
  {
   "cell_type": "code",
   "execution_count": 7,
   "metadata": {},
   "outputs": [
    {
     "data": {
      "text/plain": [
       "<All keys matched successfully>"
      ]
     },
     "execution_count": 7,
     "metadata": {},
     "output_type": "execute_result"
    }
   ],
   "source": [
    "model.load_state_dict(torch.load(\"pokebot.pth\"))"
   ]
  },
  {
   "cell_type": "code",
   "execution_count": 10,
   "metadata": {},
   "outputs": [],
   "source": [
    "def get_prediction(model, image):\n",
    "    model.eval()\n",
    "\n",
    "    # Load and pre-process the input image\n",
    "    image = np.array(image) / 255.0  \n",
    "    image = np.transpose(image, (2, 0, 1))\n",
    "    image = torch.from_numpy(image).float().unsqueeze(0) \n",
    "\n",
    "    # Make a prediction\n",
    "    with torch.no_grad():\n",
    "        output = model(image)\n",
    "        probabilities = F.softmax(output, dim=1)\n",
    "        prediction = probabilities.argmax(dim=1).item()\n",
    "        return prediction"
   ]
  },
  {
   "cell_type": "code",
   "execution_count": 4,
   "metadata": {},
   "outputs": [],
   "source": [
    "import sys\n",
    "sys.path.append('../')"
   ]
  },
  {
   "cell_type": "code",
   "execution_count": 11,
   "metadata": {},
   "outputs": [
    {
     "data": {
      "text/plain": [
       "<All keys matched successfully>"
      ]
     },
     "execution_count": 11,
     "metadata": {},
     "output_type": "execute_result"
    }
   ],
   "source": [
    "import torch\n",
    "import torch.nn.functional as F\n",
    "from PIL import Image\n",
    "import numpy as np\n",
    "from move_char import *\n",
    "import os\n",
    "\n",
    "# Load the saved model\n",
    "model = CNNModel()\n",
    "model.load_state_dict(torch.load(os.path.join(\"./models\", \"pokebot.pth\")))"
   ]
  },
  {
   "cell_type": "code",
   "execution_count": null,
   "metadata": {},
   "outputs": [],
   "source": [
    "while(True): \n",
    "    time.sleep(4)   \n",
    "    img = ImageGrab.grab(bbox=(0,40,800,640))\n",
    "    key = keymap[get_prediction(model, img)]\n",
    "    print(key, end = ', ')\n",
    "    PressKey(key)\n",
    "    time.sleep(0.2)\n",
    "    ReleaseKey(key)"
   ]
  },
  {
   "cell_type": "code",
   "execution_count": 3,
   "metadata": {},
   "outputs": [],
   "source": [
    "import time"
   ]
  },
  {
   "attachments": {},
   "cell_type": "markdown",
   "metadata": {},
   "source": [
    "# Keras 2 images"
   ]
  },
  {
   "cell_type": "code",
   "execution_count": null,
   "metadata": {},
   "outputs": [],
   "source": [
    "import numpy as np\n",
    "from keras.models import load_model\n",
    "from PIL import Image\n",
    "import os\n",
    "# Load the saved model.\n",
    "model = load_model(os.path.join(\"./models\", \"model.h5\"))"
   ]
  },
  {
   "cell_type": "code",
   "execution_count": 8,
   "metadata": {},
   "outputs": [
    {
     "name": "stdout",
     "output_type": "stream",
     "text": [
      "1/1 [==============================] - 0s 239ms/step\n",
      "1\n",
      "1/1 [==============================] - 0s 247ms/step\n",
      "1\n",
      "1/1 [==============================] - 0s 231ms/step\n",
      "1\n",
      "1/1 [==============================] - 0s 239ms/step\n",
      "1\n",
      "1/1 [==============================] - 0s 230ms/step\n",
      "1\n",
      "1/1 [==============================] - 0s 232ms/step\n",
      "1\n",
      "1/1 [==============================] - 0s 229ms/step\n",
      "1\n",
      "1/1 [==============================] - 0s 231ms/step\n",
      "1\n",
      "1/1 [==============================] - 0s 229ms/step\n",
      "1\n",
      "1/1 [==============================] - 0s 231ms/step\n",
      "1\n",
      "1/1 [==============================] - 0s 231ms/step\n",
      "1\n",
      "1/1 [==============================] - 0s 229ms/step\n",
      "1\n",
      "1/1 [==============================] - 0s 229ms/step\n",
      "1\n",
      "1/1 [==============================] - 0s 232ms/step\n",
      "1\n",
      "1/1 [==============================] - 0s 232ms/step\n",
      "1\n",
      "1/1 [==============================] - 0s 232ms/step\n",
      "1\n",
      "1/1 [==============================] - 0s 231ms/step\n",
      "1\n",
      "1/1 [==============================] - 0s 242ms/step\n",
      "1\n",
      "1/1 [==============================] - 0s 230ms/step\n",
      "1\n",
      "1/1 [==============================] - 0s 233ms/step\n",
      "1\n",
      "1/1 [==============================] - 0s 251ms/step\n",
      "1\n",
      "1/1 [==============================] - 0s 234ms/step\n",
      "1\n",
      "1/1 [==============================] - 0s 235ms/step\n",
      "1\n",
      "1/1 [==============================] - 0s 245ms/step\n",
      "1\n"
     ]
    },
    {
     "ename": "KeyboardInterrupt",
     "evalue": "",
     "output_type": "error",
     "traceback": [
      "\u001b[1;31m---------------------------------------------------------------------------\u001b[0m",
      "\u001b[1;31mKeyboardInterrupt\u001b[0m                         Traceback (most recent call last)",
      "Cell \u001b[1;32mIn[8], line 16\u001b[0m\n\u001b[0;32m     14\u001b[0m time\u001b[39m.\u001b[39msleep(\u001b[39m0.2\u001b[39m)\n\u001b[0;32m     15\u001b[0m ReleaseKey(key)\n\u001b[1;32m---> 16\u001b[0m time\u001b[39m.\u001b[39;49msleep(\u001b[39m1\u001b[39;49m)\n",
      "\u001b[1;31mKeyboardInterrupt\u001b[0m: "
     ]
    }
   ],
   "source": [
    "time.sleep(4)\n",
    "while(True):    \n",
    "    img = ImageGrab.grab(bbox=(0,40,800,640))\n",
    "    img = np.transpose(np.asarray(img.convert('L')))\n",
    "\n",
    "    inputs = {}\n",
    "    inputs['input1'] = np.reshape(img, (1, 800, 600, 1))\n",
    "    inputs['input2'] = np.reshape(img, (1, 800, 600, 1))\n",
    "\n",
    "    prediction = np.argmax(model.predict(inputs))\n",
    "    key = keymap[prediction]\n",
    "    print(prediction)\n",
    "    PressKey(key)\n",
    "    time.sleep(0.2)\n",
    "    ReleaseKey(key)\n",
    "    time.sleep(1)"
   ]
  },
  {
   "cell_type": "code",
   "execution_count": null,
   "metadata": {},
   "outputs": [],
   "source": []
  }
 ],
 "metadata": {
  "kernelspec": {
   "display_name": "base",
   "language": "python",
   "name": "python3"
  },
  "language_info": {
   "codemirror_mode": {
    "name": "ipython",
    "version": 3
   },
   "file_extension": ".py",
   "mimetype": "text/x-python",
   "name": "python",
   "nbconvert_exporter": "python",
   "pygments_lexer": "ipython3",
   "version": "3.9.12"
  },
  "orig_nbformat": 4
 },
 "nbformat": 4,
 "nbformat_minor": 2
}

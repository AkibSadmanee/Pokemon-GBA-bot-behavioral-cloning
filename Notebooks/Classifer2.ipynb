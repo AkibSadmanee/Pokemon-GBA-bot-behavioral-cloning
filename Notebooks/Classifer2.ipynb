{
 "cells": [
  {
   "cell_type": "code",
   "execution_count": 1,
   "metadata": {},
   "outputs": [],
   "source": [
    "import os\n",
    "import numpy as np\n",
    "from sklearn.metrics import roc_curve, auc\n",
    "\n",
    "import torch\n",
    "import torch.nn as nn\n",
    "import torch.nn.functional as F\n",
    "from torch.utils.data import DataLoader\n",
    "from torchvision import datasets, transforms"
   ]
  },
  {
   "cell_type": "code",
   "execution_count": 2,
   "metadata": {},
   "outputs": [
    {
     "data": {
      "text/plain": [
       "device(type='cuda')"
      ]
     },
     "execution_count": 2,
     "metadata": {},
     "output_type": "execute_result"
    }
   ],
   "source": [
    "device = torch.device(\"cuda\" if torch.cuda.is_available() else \"cpu\")\n",
    "device"
   ]
  },
  {
   "cell_type": "code",
   "execution_count": 6,
   "metadata": {},
   "outputs": [],
   "source": [
    "train_transform = transforms.Compose([\n",
    "    # transforms.CenterCrop(224),\n",
    "    transforms.ColorJitter(brightness=0.5, hue=0.3),\n",
    "    transforms.RandomInvert(p=0.5),\n",
    "    transforms.ToTensor()\n",
    "])"
   ]
  },
  {
   "cell_type": "code",
   "execution_count": 7,
   "metadata": {},
   "outputs": [],
   "source": [
    "test_transform = transforms.Compose([\n",
    "    transforms.ToTensor()\n",
    "])"
   ]
  },
  {
   "cell_type": "code",
   "execution_count": 8,
   "metadata": {},
   "outputs": [],
   "source": [
    "train_data = datasets.ImageFolder(\n",
    "    root = os.path.join(\"./data\", \"train\"),\n",
    "    transform=train_transform)\n",
    "\n",
    "#Test\n",
    "test_data = datasets.ImageFolder(\n",
    "    root = os.path.join(\"./data\", \"test\"),\n",
    "    transform=test_transform)"
   ]
  },
  {
   "cell_type": "code",
   "execution_count": 9,
   "metadata": {},
   "outputs": [],
   "source": [
    "#Train\n",
    "train_loader = DataLoader(\n",
    "    train_data,\n",
    "    shuffle = True,\n",
    "    batch_size = 16,\n",
    "    pin_memory=True)\n",
    "\n",
    "#Test\n",
    "test_loader = DataLoader(\n",
    "    test_data,\n",
    "    batch_size = 16,\n",
    "    pin_memory=True)"
   ]
  },
  {
   "cell_type": "code",
   "execution_count": 10,
   "metadata": {},
   "outputs": [
    {
     "name": "stdout",
     "output_type": "stream",
     "text": [
      "Size (b x ch x w x h)):  torch.Size([16, 3, 600, 800]) \tImage Classes-> ['down', 'left', 'right', 'up', 'x']\n"
     ]
    }
   ],
   "source": [
    "class_names = train_data.classes\n",
    "for image,label in train_loader:\n",
    "    print('Size (b x ch x w x h)): ',image.shape, '\\tImage Classes->',class_names)\n",
    "    break"
   ]
  },
  {
   "cell_type": "code",
   "execution_count": 21,
   "metadata": {},
   "outputs": [],
   "source": [
    "class CNNModel(nn.Module):\n",
    "    def __init__(self):\n",
    "        super().__init__()\n",
    "        self.conv1 = nn.Conv2d(in_channels=3, kernel_size=5, out_channels=16, stride=2, padding=1)\n",
    "        self.conv2 = nn.Conv2d(in_channels=16, kernel_size=5, out_channels=32, stride=2, padding=1)\n",
    "        self.conv3 = nn.Conv2d(in_channels=32, kernel_size=5, out_channels=64, stride=2, padding=1)\n",
    "        self.conv4 = nn.Conv2d(in_channels=64, kernel_size=5, out_channels=128, stride=2, padding=1)\n",
    "        self.fc1 = nn.Linear(512,256)\n",
    "        self.fc2 = nn.Linear(256,128)\n",
    "        self.fc3 = nn.Linear(128,64)\n",
    "        self.out = nn.Linear(64,5)\n",
    "    \n",
    "    def forward(self,X):\n",
    "        # print(X.shape)\n",
    "        X = F.relu(self.conv1(X))\n",
    "        X = F.max_pool2d(X,2,2)\n",
    "        # print(X.shape)\n",
    "        X = F.relu(self.conv2(X))\n",
    "        X = F.max_pool2d(X,2,2)\n",
    "        # print(X.shape)\n",
    "        X = F.relu(self.conv3(X))\n",
    "        X = F.max_pool2d(X,2,2)\n",
    "        # print(X.shape)\n",
    "        X = F.relu(self.conv4(X))\n",
    "        X = F.max_pool2d(X,2,2)\n",
    "\n",
    "        X = X.view(X.size()[0], -1)\n",
    "        # print(X.shape)\n",
    "        X = F.relu(self.fc1(X))\n",
    "        X = F.relu(self.fc2(X))\n",
    "        X = F.relu(self.fc3(X))\n",
    "\n",
    "        \n",
    "        X = self.out(X)\n",
    "        return F.log_softmax(X,dim = 1)\n",
    "    \n",
    "def get_predictions(model, data_loader):\n",
    "    model.eval()\n",
    "    predictions, labels = [], []\n",
    "    with torch.no_grad():\n",
    "        for inputs, targets in data_loader:\n",
    "            inputs = inputs.to(device)\n",
    "            targets = targets.to(device)\n",
    "            outputs = model(inputs)\n",
    "            probabilities = torch.nn.functional.softmax(outputs, dim=1)\n",
    "            predictions.append(probabilities.cpu().numpy())\n",
    "            labels.append(targets.cpu().numpy())\n",
    "    return np.concatenate(predictions), np.concatenate(labels)"
   ]
  },
  {
   "cell_type": "code",
   "execution_count": 13,
   "metadata": {},
   "outputs": [],
   "source": [
    "model = CNNModel()\n",
    "model = model.to(device)"
   ]
  },
  {
   "cell_type": "code",
   "execution_count": 14,
   "metadata": {},
   "outputs": [],
   "source": [
    "epochs = 70\n",
    "train_losses = []\n",
    "train_correct = []\n",
    "test_losses = []\n",
    "test_correct = []\n",
    "\n",
    "criterion = nn.CrossEntropyLoss()\n",
    "optimizer = torch.optim.Adam(model.parameters(),lr=0.001)"
   ]
  },
  {
   "cell_type": "code",
   "execution_count": null,
   "metadata": {},
   "outputs": [],
   "source": [
    "min_loss = 100000\n",
    "for i in range(epochs):\n",
    "    trn_corr = 0\n",
    "    tst_corr = 0\n",
    "    for b,(X_train,Y_train) in enumerate(train_loader):\n",
    "        b+=1\n",
    "        X_train = X_train.to(device)\n",
    "        Y_train = Y_train.to(device)\n",
    "        Y_pred = model(X_train)\n",
    "        loss = criterion(Y_pred,Y_train)\n",
    "        predictions = torch.max(Y_pred.data,1)[1]\n",
    "        trn_corr+= (predictions == Y_train).sum()\n",
    "        \n",
    "        print('.' ,end='')\n",
    "        optimizer.zero_grad()\n",
    "        loss.backward()\n",
    "        optimizer.step()\n",
    "    \n",
    "    train_losses.append(loss)\n",
    "    train_correct.append(trn_corr)\n",
    "    \n",
    "    with torch.no_grad():\n",
    "        for(X_test,Y_test) in test_loader:\n",
    "            X_test = X_test.to(device)\n",
    "            Y_test = Y_test.to(device)\n",
    "            Y_val = model(X_test)\n",
    "            predictions = torch.max(Y_val.data,1)[1]\n",
    "            tst_corr+= (predictions == Y_test).sum()\n",
    "        loss = criterion(Y_val,Y_test)\n",
    "        test_losses.append(loss)\n",
    "        test_correct.append(tst_corr)\n",
    "        print(\"\\nEpoch: {}, test loss: {:.4f}\\n\".format(i, loss))\n",
    "        if loss < min_loss:\n",
    "            min_loss = loss\n",
    "            torch.save(model.state_dict(), os.path.join(\"./models\", \"pokebot.pth\"))\n",
    "            print(f\"New Minimum Loss: {loss} -> Model Saved\")\n",
    "        else:\n",
    "            print(f\"Minimum loss {min_loss} didn't change.\")"
   ]
  },
  {
   "cell_type": "code",
   "execution_count": 18,
   "metadata": {},
   "outputs": [
    {
     "name": "stdout",
     "output_type": "stream",
     "text": [
      "Saved PyTorch Model State to pokebot.pth\n"
     ]
    }
   ],
   "source": [
    "torch.save(model.state_dict(), os.path.join(\"./models\", \"pokebot.pth\"))\n",
    "print(\"Saved PyTorch Model State to pokebot.pth\")"
   ]
  },
  {
   "cell_type": "code",
   "execution_count": 19,
   "metadata": {},
   "outputs": [
    {
     "data": {
      "text/plain": [
       "<All keys matched successfully>"
      ]
     },
     "execution_count": 19,
     "metadata": {},
     "output_type": "execute_result"
    }
   ],
   "source": [
    "model = CNNModel()\n",
    "model.load_state_dict(torch.load(os.path.join(\"./models\", \"pokebot.pth\")))"
   ]
  },
  {
   "cell_type": "code",
   "execution_count": 34,
   "metadata": {},
   "outputs": [
    {
     "name": "stdout",
     "output_type": "stream",
     "text": [
      "torch.Size([16, 3, 600, 800])\n"
     ]
    }
   ],
   "source": [
    "for t in test_loader:\n",
    "    print(t[0].shape)\n",
    "    break"
   ]
  },
  {
   "cell_type": "code",
   "execution_count": 22,
   "metadata": {},
   "outputs": [],
   "source": [
    "model = model.to(device)\n",
    "y_score, y_true = get_predictions(model, test_loader)"
   ]
  },
  {
   "cell_type": "code",
   "execution_count": 23,
   "metadata": {},
   "outputs": [],
   "source": [
    "from sklearn.preprocessing import label_binarize\n",
    "\n",
    "n_classes = 5\n",
    "\n",
    "y_true_bin = label_binarize(y_true, classes=np.arange(n_classes))"
   ]
  },
  {
   "cell_type": "code",
   "execution_count": 25,
   "metadata": {},
   "outputs": [],
   "source": [
    "# Compute ROC curve and area under the curve (AUC) for each class\n",
    "fpr = dict()\n",
    "tpr = dict()\n",
    "roc_auc = dict()\n",
    "for i in range(n_classes):\n",
    "    fpr[i], tpr[i], _ = roc_curve(y_true_bin[:, i], y_score[:, i])\n",
    "    roc_auc[i] = auc(fpr[i], tpr[i])"
   ]
  },
  {
   "cell_type": "code",
   "execution_count": 27,
   "metadata": {},
   "outputs": [
    {
     "data": {
      "image/png": "[encoded data removed]",
      "text/plain": [
       "<Figure size 640x480 with 1 Axes>"
      ]
     },
     "metadata": {},
     "output_type": "display_data"
    }
   ],
   "source": [
    "# Plot ROC curve for each class\n",
    "import matplotlib.pyplot as plt\n",
    "for i in range(n_classes):\n",
    "    plt.plot(fpr[i], tpr[i], label=f'Class: {class_names[i]} (AUC = {roc_auc[i]}')\n",
    "\n",
    "plt.xlabel('False Positive Rate')\n",
    "plt.ylabel('True Positive Rate')\n",
    "plt.title('ROC for multiclass classification')\n",
    "plt.legend(loc='lower right')\n",
    "plt.show()"
   ]
  },
  {
   "cell_type": "code",
   "execution_count": null,
   "metadata": {},
   "outputs": [],
   "source": []
  }
 ],
 "metadata": {
  "kernelspec": {
   "display_name": "pokemon",
   "language": "python",
   "name": "python3"
  },
  "language_info": {
   "codemirror_mode": {
    "name": "ipython",
    "version": 3
   },
   "file_extension": ".py",
   "mimetype": "text/x-python",
   "name": "python",
   "nbconvert_exporter": "python",
   "pygments_lexer": "ipython3",
   "version": "3.9.12"
  },
  "orig_nbformat": 4
 },
 "nbformat": 4,
 "nbformat_minor": 2
}
